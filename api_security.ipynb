{
 "cells": [
  {
   "cell_type": "code",
   "execution_count": 8,
   "id": "informed-today",
   "metadata": {},
   "outputs": [],
   "source": [
    "# so you can use pwd and know where you are\n",
    "import os"
   ]
  },
  {
   "cell_type": "code",
   "execution_count": 9,
   "id": "suited-large",
   "metadata": {},
   "outputs": [
    {
     "data": {
      "text/plain": [
       "'D:\\\\work-related\\\\pyDataverse\\\\API_hide_test'"
      ]
     },
     "execution_count": 9,
     "metadata": {},
     "output_type": "execute_result"
    }
   ],
   "source": [
    "pwd"
   ]
  },
  {
   "cell_type": "code",
   "execution_count": 18,
   "id": "floral-uganda",
   "metadata": {},
   "outputs": [],
   "source": [
    "# example 1: using a python config file\n",
    "import config as cfg"
   ]
  },
  {
   "cell_type": "code",
   "execution_count": 20,
   "id": "flexible-juice",
   "metadata": {
    "scrolled": true
   },
   "outputs": [],
   "source": [
    "api_token = cfg.access_token"
   ]
  },
  {
   "cell_type": "code",
   "execution_count": 21,
   "id": "committed-mailing",
   "metadata": {},
   "outputs": [
    {
     "name": "stdout",
     "output_type": "stream",
     "text": [
      "key03\n"
     ]
    }
   ],
   "source": [
    "print(api_token)"
   ]
  },
  {
   "cell_type": "code",
   "execution_count": null,
   "id": "south-composition",
   "metadata": {},
   "outputs": [],
   "source": [
    "# example 2: json config file\n",
    "# useful to explain how to access elements in a json file"
   ]
  },
  {
   "cell_type": "code",
   "execution_count": 24,
   "id": "frequent-racing",
   "metadata": {},
   "outputs": [],
   "source": [
    "import json"
   ]
  },
  {
   "cell_type": "code",
   "execution_count": 34,
   "id": "digital-shopping",
   "metadata": {},
   "outputs": [
    {
     "name": "stdout",
     "output_type": "stream",
     "text": [
      "dataverse_production\n"
     ]
    }
   ],
   "source": [
    "with open(\"config.json\") as config:\n",
    "    cfg = json.load(config)\n",
    "api_production = cfg['dataverse_production']['api_token']\n",
    "print(api_production)"
   ]
  },
  {
   "cell_type": "code",
   "execution_count": 22,
   "id": "respective-translation",
   "metadata": {},
   "outputs": [
    {
     "name": "stdout",
     "output_type": "stream",
     "text": [
      "{'dataverse_production': {'api_token': 'dataverse_production'}, 'dataverse_test': {'api_token': 'dataverse_test'}}\n"
     ]
    }
   ],
   "source": [
    "#  print out everything in json file\n",
    "#\n",
    "with open(\"config.json\") as json_data_file:\n",
    "    data = json.load(json_data_file)\n",
    "print(data)"
   ]
  },
  {
   "cell_type": "code",
   "execution_count": null,
   "id": "integrated-outline",
   "metadata": {},
   "outputs": [],
   "source": [
    "# example 3: yaml config file"
   ]
  },
  {
   "cell_type": "code",
   "execution_count": null,
   "id": "dedicated-transportation",
   "metadata": {},
   "outputs": [],
   "source": []
  },
  {
   "cell_type": "code",
   "execution_count": null,
   "id": "interested-librarian",
   "metadata": {},
   "outputs": [],
   "source": [
    "# example 4: hide as an environmental file/variable"
   ]
  }
 ],
 "metadata": {
  "kernelspec": {
   "display_name": "Python 3",
   "language": "python",
   "name": "python3"
  },
  "language_info": {
   "codemirror_mode": {
    "name": "ipython",
    "version": 3
   },
   "file_extension": ".py",
   "mimetype": "text/x-python",
   "name": "python",
   "nbconvert_exporter": "python",
   "pygments_lexer": "ipython3",
   "version": "3.7.10"
  }
 },
 "nbformat": 4,
 "nbformat_minor": 5
}
