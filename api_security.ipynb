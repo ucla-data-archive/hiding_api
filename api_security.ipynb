{
 "cells": [
  {
   "cell_type": "code",
   "execution_count": 8,
   "id": "hungarian-commission",
   "metadata": {},
   "outputs": [],
   "source": [
    "# so you can use pwd and know where you are\n",
    "import os"
   ]
  },
  {
   "cell_type": "code",
   "execution_count": 9,
   "id": "becoming-rates",
   "metadata": {},
   "outputs": [
    {
     "data": {
      "text/plain": [
       "'D:\\\\work-related\\\\pyDataverse\\\\API_hide_test'"
      ]
     },
     "execution_count": 9,
     "metadata": {},
     "output_type": "execute_result"
    }
   ],
   "source": [
    "pwd"
   ]
  },
  {
   "cell_type": "code",
   "execution_count": 10,
   "id": "understood-stadium",
   "metadata": {},
   "outputs": [],
   "source": [
    "# example 1: using a python config file\n",
    "import config as cfg"
   ]
  },
  {
   "cell_type": "code",
   "execution_count": 11,
   "id": "tamil-projection",
   "metadata": {
    "scrolled": true
   },
   "outputs": [],
   "source": [
    "api_token = cfg.access_token"
   ]
  },
  {
   "cell_type": "code",
   "execution_count": 12,
   "id": "racial-aberdeen",
   "metadata": {},
   "outputs": [
    {
     "name": "stdout",
     "output_type": "stream",
     "text": [
      "key03\n"
     ]
    }
   ],
   "source": [
    "print(api_token)"
   ]
  },
  {
   "cell_type": "code",
   "execution_count": 13,
   "id": "outstanding-settlement",
   "metadata": {},
   "outputs": [],
   "source": [
    "# example 2: json config file\n",
    "# useful to explain how to access elements in a json file"
   ]
  },
  {
   "cell_type": "code",
   "execution_count": 14,
   "id": "hazardous-intellectual",
   "metadata": {},
   "outputs": [],
   "source": [
    "import json"
   ]
  },
  {
   "cell_type": "code",
   "execution_count": 15,
   "id": "amended-cause",
   "metadata": {},
   "outputs": [
    {
     "name": "stdout",
     "output_type": "stream",
     "text": [
      "dataverse_production\n"
     ]
    }
   ],
   "source": [
    "with open(\"config.json\") as config:\n",
    "    cfg = json.load(config)\n",
    "api_production = cfg['dataverse_production']['api_token']\n",
    "print(api_production)"
   ]
  },
  {
   "cell_type": "code",
   "execution_count": 34,
   "id": "dirty-dietary",
   "metadata": {},
   "outputs": [
    {
     "name": "stdout",
     "output_type": "stream",
     "text": [
      "dataverse_production\n"
     ]
    }
   ],
   "source": [
    "with open(\"config.json\") as config:\n",
    "    cfg = json.load(config)\n",
    "api_production = cfg['dataverse_production']['api_token']\n",
    "print(api_production)"
   ]
  },
  {
   "cell_type": "code",
   "execution_count": 22,
   "id": "north-novel",
   "metadata": {},
   "outputs": [
    {
     "name": "stdout",
     "output_type": "stream",
     "text": [
      "{'dataverse_production': {'api_token': 'dataverse_production'}, 'dataverse_test': {'api_token': 'dataverse_test'}}\n"
     ]
    }
   ],
   "source": [
    "#  print out everything in json file\n",
    "#\n",
    "with open(\"config.json\") as json_data_file:\n",
    "    data = json.load(json_data_file)\n",
    "print(data)"
   ]
  },
  {
   "cell_type": "code",
   "execution_count": null,
   "id": "direct-trail",
   "metadata": {},
   "outputs": [],
   "source": [
    "# example 3: yaml config file"
   ]
  },
  {
   "cell_type": "code",
   "execution_count": null,
   "id": "previous-charleston",
   "metadata": {},
   "outputs": [],
   "source": []
  },
  {
   "cell_type": "code",
   "execution_count": null,
   "id": "pregnant-frederick",
   "metadata": {},
   "outputs": [],
   "source": [
    "# example 4: hide as an environmental file/variable"
   ]
  }
 ],
 "metadata": {
  "kernelspec": {
   "display_name": "Python 3",
   "language": "python",
   "name": "python3"
  },
  "language_info": {
   "codemirror_mode": {
    "name": "ipython",
    "version": 3
   },
   "file_extension": ".py",
   "mimetype": "text/x-python",
   "name": "python",
   "nbconvert_exporter": "python",
   "pygments_lexer": "ipython3",
   "version": "3.8.8"
  }
 },
 "nbformat": 4,
 "nbformat_minor": 5
}
