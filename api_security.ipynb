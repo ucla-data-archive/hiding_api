{
 "cells": [
  {
   "cell_type": "markdown",
   "id": "520303ce",
   "metadata": {},
   "source": [
    "## Hiding API keys and tokens\n",
    "### Examples of how to hide api keys, examples using python import, json, yaml and environmental variables\n",
    "\n",
    "Using .gitignore\n",
    "Note: my example has the config files commented out so I can include them here. Would be ignored in real usage\n",
    "\n",
    "config.py   <- these are the config files that hold the api keys or tokens  \n",
    "config.json  \n",
    "config.yml  \n",
    "config.py  \n",
    "__init__.py  \n",
    "__pycache__  \n",
    ".ipynb_checkpoints   \n",
    "Untitled*.ipynb  \n",
    "\n",
    "### Articles Referenced:\n",
    "- How to Hide Your API keys with Python: https://medium.com/black-tech-diva/hide-your-api-keys-7635e181a06c  \n",
    "- How to Hide an API Key with Python: https://rapidapi.com/blog/how-to-hide-an-api-key-with-python/  \n",
    "- Configuration Files in Python: https://martin-thoma.com/configuration-files-in-python/  \n",
    "- How to Hide Your API Keys in Python: https://towardsdatascience.com/how-to-hide-your-api-keys-in-python-fb2e1a61b0a0  "
   ]
  },
  {
   "cell_type": "code",
   "execution_count": 1,
   "id": "dee2f4cc",
   "metadata": {},
   "outputs": [],
   "source": [
    "# so you can use pwd and know where you are\n",
    "import os"
   ]
  },
  {
   "cell_type": "code",
   "execution_count": 2,
   "id": "becoming-rates",
   "metadata": {},
   "outputs": [
    {
     "data": {
      "text/plain": [
       "'D:\\\\work-related\\\\pythonCode\\\\hiding_api'"
      ]
     },
     "execution_count": 2,
     "metadata": {},
     "output_type": "execute_result"
    }
   ],
   "source": [
    "pwd"
   ]
  },
  {
   "cell_type": "code",
   "execution_count": 3,
   "id": "understood-stadium",
   "metadata": {},
   "outputs": [],
   "source": [
    "# example 1: using a python config file\n",
    "import config as cfg"
   ]
  },
  {
   "cell_type": "code",
   "execution_count": 4,
   "id": "tamil-projection",
   "metadata": {
    "scrolled": true
   },
   "outputs": [],
   "source": [
    "api_token = cfg.access_token"
   ]
  },
  {
   "cell_type": "code",
   "execution_count": 5,
   "id": "racial-aberdeen",
   "metadata": {},
   "outputs": [
    {
     "name": "stdout",
     "output_type": "stream",
     "text": [
      "key03\n"
     ]
    }
   ],
   "source": [
    "print(api_token)"
   ]
  },
  {
   "cell_type": "code",
   "execution_count": 6,
   "id": "outstanding-settlement",
   "metadata": {},
   "outputs": [],
   "source": [
    "# example 2: json config file\n",
    "# useful to explain how to access elements in a json file"
   ]
  },
  {
   "cell_type": "code",
   "execution_count": 7,
   "id": "hazardous-intellectual",
   "metadata": {},
   "outputs": [],
   "source": [
    "import json"
   ]
  },
  {
   "cell_type": "code",
   "execution_count": 8,
   "id": "amended-cause",
   "metadata": {},
   "outputs": [
    {
     "name": "stdout",
     "output_type": "stream",
     "text": [
      "dataverse_production\n"
     ]
    }
   ],
   "source": [
    "with open(\"config.json\") as config:\n",
    "    cfg = json.load(config)\n",
    "api_production = cfg['dataverse_production']['api_token']\n",
    "print(api_production)"
   ]
  },
  {
   "cell_type": "code",
   "execution_count": 9,
   "id": "dirty-dietary",
   "metadata": {},
   "outputs": [
    {
     "name": "stdout",
     "output_type": "stream",
     "text": [
      "dataverse_production\n"
     ]
    }
   ],
   "source": [
    "with open(\"config.json\") as config:\n",
    "    cfg = json.load(config)\n",
    "api_production = cfg['dataverse_production']['api_token']\n",
    "print(api_production)"
   ]
  },
  {
   "cell_type": "code",
   "execution_count": 22,
   "id": "north-novel",
   "metadata": {},
   "outputs": [
    {
     "name": "stdout",
     "output_type": "stream",
     "text": [
      "{'dataverse_production': {'api_token': 'dataverse_production'}, 'dataverse_test': {'api_token': 'dataverse_test'}}\n"
     ]
    }
   ],
   "source": [
    "#  print out everything in json file\n",
    "#\n",
    "with open(\"config.json\") as json_data_file:\n",
    "    data = json.load(json_data_file)\n",
    "print(data)"
   ]
  },
  {
   "cell_type": "code",
   "execution_count": 14,
   "id": "direct-trail",
   "metadata": {},
   "outputs": [],
   "source": [
    "# example 3: yaml config file"
   ]
  },
  {
   "cell_type": "code",
   "execution_count": 18,
   "id": "previous-charleston",
   "metadata": {},
   "outputs": [
    {
     "name": "stdout",
     "output_type": "stream",
     "text": [
      "dataverse_production\n",
      "dataverse_test\n",
      "{'api_token': 'dataverse_production'}\n",
      "{'api_token': 'dataverse_test'}\n"
     ]
    },
    {
     "name": "stderr",
     "output_type": "stream",
     "text": [
      "<ipython-input-18-3187e5589845>:4: YAMLLoadWarning: calling yaml.load() without Loader=... is deprecated, as the default Loader is unsafe. Please read https://msg.pyyaml.org/load for full details.\n",
      "  cfg = yaml.load(ymlfile)\n"
     ]
    }
   ],
   "source": [
    "import yaml\n",
    "\n",
    "with open(\"config.yml\", \"r\") as ymlfile:\n",
    "    cfg = yaml.load(ymlfile)\n",
    "\n",
    "for section in cfg:\n",
    "    print(section)\n",
    "print(cfg[\"dataverse_production\"])\n",
    "print(cfg[\"dataverse_test\"])"
   ]
  },
  {
   "cell_type": "code",
   "execution_count": null,
   "id": "b97f0717",
   "metadata": {},
   "outputs": [],
   "source": [
    "# example 3b: example with safer loader from  https://msg.pyyaml.org/load "
   ]
  },
  {
   "cell_type": "code",
   "execution_count": 19,
   "id": "1449950b",
   "metadata": {},
   "outputs": [
    {
     "name": "stdout",
     "output_type": "stream",
     "text": [
      "dataverse_production\n",
      "dataverse_test\n",
      "{'api_token': 'dataverse_production'}\n",
      "{'api_token': 'dataverse_test'}\n"
     ]
    }
   ],
   "source": [
    "import yaml\n",
    "\n",
    "with open(\"config.yml\", \"r\") as ymlfile:\n",
    "    cfg = yaml.load(ymlfile, Loader=yaml.SafeLoader) # <--\n",
    "\n",
    "for section in cfg:\n",
    "    print(section)\n",
    "print(cfg[\"dataverse_production\"])\n",
    "print(cfg[\"dataverse_test\"])"
   ]
  },
  {
   "cell_type": "code",
   "execution_count": null,
   "id": "pregnant-frederick",
   "metadata": {},
   "outputs": [],
   "source": [
    "# example 4: hide as an environmental file/variable"
   ]
  },
  {
   "cell_type": "code",
   "execution_count": null,
   "id": "69877e07",
   "metadata": {},
   "outputs": [],
   "source": [
    "###"
   ]
  }
 ],
 "metadata": {
  "kernelspec": {
   "display_name": "Python 3",
   "language": "python",
   "name": "python3"
  },
  "language_info": {
   "codemirror_mode": {
    "name": "ipython",
    "version": 3
   },
   "file_extension": ".py",
   "mimetype": "text/x-python",
   "name": "python",
   "nbconvert_exporter": "python",
   "pygments_lexer": "ipython3",
   "version": "3.8.8"
  }
 },
 "nbformat": 4,
 "nbformat_minor": 5
}
